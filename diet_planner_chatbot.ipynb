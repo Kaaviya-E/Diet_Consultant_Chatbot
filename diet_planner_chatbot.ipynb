{
 "cells": [
  {
   "cell_type": "code",
   "execution_count": 1,
   "id": "31314dc0-a6a9-4e63-b201-a28ee896e31d",
   "metadata": {},
   "outputs": [
    {
     "name": "stderr",
     "output_type": "stream",
     "text": [
      "C:\\Users\\Kaaviya E\\AppData\\Local\\Programs\\Python\\Python310\\lib\\site-packages\\tqdm\\auto.py:21: TqdmWarning: IProgress not found. Please update jupyter and ipywidgets. See https://ipywidgets.readthedocs.io/en/stable/user_install.html\n",
      "  from .autonotebook import tqdm as notebook_tqdm\n"
     ]
    }
   ],
   "source": [
    "# imports\n",
    "from openai import OpenAI\n",
    "import gradio as gr"
   ]
  },
  {
   "cell_type": "code",
   "execution_count": 2,
   "id": "b6b2f47f-3d2b-4a42-b528-58b89c371fec",
   "metadata": {},
   "outputs": [],
   "source": [
    "# Initialize OpenAI client (point to Ollama or actual OpenAI endpoint)\n",
    "openai = OpenAI(\n",
    "    base_url=\"http://localhost:11434/v1\",  # for Ollama\n",
    "    api_key=\"ollama\"  #fake key                     \n",
    ")\n",
    "\n",
    "# Define model\n",
    "MODEL = \"llama3.2\""
   ]
  },
  {
   "cell_type": "code",
   "execution_count": 3,
   "id": "cdefd950-f7f1-4165-b465-1d7f9dfc5ff9",
   "metadata": {},
   "outputs": [],
   "source": [
    "# System prompt : using Few Shot prompting (with context and specification)\n",
    "system_prompt = \"\"\"\n",
    "\n",
    "You are an expert nutritionist and diet planner AI. \n",
    "Your task is to create a personalized, balanced, and easy-to-follow daily meal plan based on the user's profile and goals.\n",
    "Follow the exact format of the examples provided. The plan should include estimated calorie and macronutrient targets, meal timings, food items with approximate quantities, and a few general tips.\n",
    "\n",
    "---\n",
    "### Example 1\n",
    "\n",
    "*User Profile:*\n",
    "•⁠  ⁠*Age:* 30\n",
    "•⁠  ⁠*Gender:* Male\n",
    "•⁠  ⁠*Weight:* 85 kg\n",
    "•⁠  ⁠*Height:* 180 cm\n",
    "•⁠  ⁠*Activity Level:* Moderately Active (gym 3-4 times a week)\n",
    "•⁠  ⁠*Goal:* Weight Loss\n",
    "•⁠  ⁠*Dietary Preferences:* Non-vegetarian, likes Indian food\n",
    "•⁠  ⁠*Other Notes:* Wants a simple plan, not too many exotic ingredients.\n",
    "\n",
    "*Generated Plan:*\n",
    "*Goal:* Healthy and sustainable weight loss.\n",
    "*Estimated Daily Target:* ~$2000$ kcal\n",
    "*Macronutrient Split:* 40% Protein, 35% Carbs, 25% Fat\n",
    "\n",
    "*Meal Plan:*\n",
    "\n",
    "•⁠  ⁠*Upon Waking (7:00 AM):* 1 glass of warm water with lemon.\n",
    "•⁠  ⁠*Breakfast (8:00 AM):* 3 whole eggs (scrambled or boiled) + 2 slices of whole wheat toast + 1 bowl of papaya.\n",
    "•⁠  ⁠*Mid-Morning Snack (11:00 AM):* 1 apple + a handful of almonds (~15).\n",
    "•⁠  ⁠*Lunch (1:00 PM):* 1 large bowl of mixed salad (cucumber, tomato, onion) + 150g grilled chicken breast + 1 cup of brown rice + 1 bowl of dal (lentils).\n",
    "•⁠  ⁠*Evening Snack (4:30 PM):* 1 cup of Greek yogurt.\n",
    "•⁠  ⁠*Dinner (7:30 PM):* 150g grilled fish (like salmon or mackerel) + 2 cups of steamed vegetables (broccoli, carrots, beans).\n",
    "•⁠  ⁠*Post-Dinner (Optional):* 1 cup of green tea.\n",
    "\n",
    "*General Tips:*\n",
    "1.  Drink at least 3-4 liters of water throughout the day.\n",
    "2.  Use minimal oil for cooking (e.g., 1 tsp of olive oil or coconut oil).\n",
    "3.  Ensure you get 7-8 hours of sleep for optimal recovery and hormone regulation.\n",
    "\n",
    "---\n",
    "### Example 2\n",
    "\n",
    "*User Profile:*\n",
    "•⁠  ⁠*Age:* 25\n",
    "•⁠  ⁠*Gender:* Female\n",
    "•⁠  ⁠*Weight:* 55 kg\n",
    "•⁠  ⁠*Height:* 165 cm\n",
    "•⁠  ⁠*Activity Level:* Lightly Active (desk job, walks 2-3 times a week)\n",
    "•⁠  ⁠*Goal:* Maintain Weight & Improve Energy\n",
    "•⁠  ⁠*Dietary Preferences:* Vegetarian, Lactose-intolerant\n",
    "•⁠  ⁠*Other Notes:* Prefers quick meals.\n",
    "\n",
    "*Generated Plan:*\n",
    "*Goal:* Weight maintenance and sustained energy levels.\n",
    "*Estimated Daily Target:* ~$1800$ kcal\n",
    "*Macronutrient Split:* 30% Protein, 45% Carbs, 25% Fat\n",
    "\n",
    "*Meal Plan:*\n",
    "\n",
    "•⁠  ⁠*Upon Waking (7:30 AM):* 1 glass of warm water.\n",
    "•⁠  ⁠*Breakfast (8:30 AM):* 1 bowl of oatmeal cooked with almond milk, topped with berries and 1 tbsp of chia seeds.\n",
    "•⁠  ⁠*Mid-Morning Snack (11:30 AM):* 1 banana.\n",
    "•⁠  ⁠*Lunch (1:30 PM):* 1 large bowl of quinoa salad with chickpeas, bell peppers, cucumber, and a lemon-tahini dressing + 100g of pan-fried tofu.\n",
    "•⁠  ⁠*Evening Snack (5:00 PM):* A handful of roasted chickpeas or a pear.\n",
    "•⁠  ⁠*Dinner (8:00 PM):* 2 multigrain rotis (flatbread) + 1 large bowl of mixed vegetable curry + 1 bowl of lentil soup (dal).\n",
    "•⁠  ⁠*Post-Dinner (Optional):* 1 cup of herbal tea (chamomile or peppermint).\n",
    "\n",
    "*General Tips:*\n",
    "1.  Stay hydrated with water and herbal teas.\n",
    "2.  Incorporate a variety of colorful vegetables to maximize nutrient intake.\n",
    "3.  Opt for complex carbohydrates like oats and quinoa for sustained energy.\n",
    "\n",
    "---\n",
    "### Your Real Request\n",
    "\n",
    "*User Profile:*\n",
    "•⁠  ⁠*Age:* [Your Age]\n",
    "•⁠  ⁠*Gender:* [Your Gender]\n",
    "•⁠  ⁠*Weight:* [Your Weight in kg or lbs]\n",
    "•⁠  ⁠*Height:* [Your Height in cm or ft/in]\n",
    "•⁠  ⁠*Activity Level:* [Sedentary, Lightly Active, Moderately Active, Very Active]\n",
    "•⁠  ⁠*Goal:* [Weight Loss, Weight Gain, Muscle Building, Maintenance, etc.]\n",
    "•⁠  ⁠*Dietary Preferences:* [e.g., Vegetarian, Vegan, Pescatarian, No allergies, Gluten-free, etc.]\n",
    "•⁠  ⁠*Other Notes:* [e.g., Prefers Mediterranean food, needs a budget-friendly plan, has only 30 minutes to cook dinner, etc.]\n",
    "\n",
    "ask the user one by one , if already the user has given dont ask them again\n",
    "•⁠ What is your age?\n",
    "•⁠ What is your gender? (Please select one: Male, Female, Non-binary, Prefer not to say)\n",
    "•⁠ How much do you weigh (in kg or lbs)?\n",
    "•⁠ What is your height (in cm or ft/in)?\n",
    "•⁠ What is your activity level (Sedentary, Lightly Active, Moderately Active, Very Active)?\n",
    "•⁠ Do you have any dietary restrictions or preferences (e.g., vegetarian, vegan, gluten-free, etc.)?\n",
    "•⁠ What is your current weight loss/gain goal? (Please select one: Weight Loss, Weight Gain, Maintenance, Other - please specify)\n",
    "•⁠ Do you have any other specifications to mention to consider?\n",
    "\n",
    "*Generated Plan:*\n",
    "\"\"\""
   ]
  },
  {
   "cell_type": "code",
   "execution_count": 4,
   "id": "1f06cdd1-1b95-46b1-9094-15e6f64f733e",
   "metadata": {},
   "outputs": [],
   "source": [
    "def chat(message,history):\n",
    "    messages=[{\"role\":\"system\",\"content\":system_prompt}]+history+[{\"role\":\"user\",\"content\":message}]\n",
    "    \n",
    "    stream = openai.chat.completions.create(\n",
    "        model=MODEL,\n",
    "        messages=messages,\n",
    "        temperature=0.8,\n",
    "        stream=True\n",
    "    )\n",
    "    result = \"\"\n",
    "    for chunk in stream:\n",
    "        result += chunk.choices[0].delta.content or \"\"\n",
    "        yield result"
   ]
  },
  {
   "cell_type": "code",
   "execution_count": 5,
   "id": "94ddf9f8-bca6-43d3-b7a8-b317693fd454",
   "metadata": {
    "scrolled": true
   },
   "outputs": [
    {
     "name": "stdout",
     "output_type": "stream",
     "text": [
      "* Running on local URL:  http://127.0.0.1:7860\n",
      "* To create a public link, set `share=True` in `launch()`.\n"
     ]
    },
    {
     "data": {
      "text/html": [
       "<div><iframe src=\"http://127.0.0.1:7860/\" width=\"100%\" height=\"500\" allow=\"autoplay; camera; microphone; clipboard-read; clipboard-write;\" frameborder=\"0\" allowfullscreen></iframe></div>"
      ],
      "text/plain": [
       "<IPython.core.display.HTML object>"
      ]
     },
     "metadata": {},
     "output_type": "display_data"
    },
    {
     "data": {
      "text/plain": []
     },
     "execution_count": 5,
     "metadata": {},
     "output_type": "execute_result"
    }
   ],
   "source": [
    "gr.ChatInterface(fn=chat, type=\"messages\").launch()"
   ]
  },
  {
   "cell_type": "code",
   "execution_count": null,
   "id": "ea4614a1-02c1-4e7a-ae55-8f576307cc1a",
   "metadata": {},
   "outputs": [],
   "source": []
  }
 ],
 "metadata": {
  "kernelspec": {
   "display_name": "Python 3.10",
   "language": "python",
   "name": "python310"
  },
  "language_info": {
   "codemirror_mode": {
    "name": "ipython",
    "version": 3
   },
   "file_extension": ".py",
   "mimetype": "text/x-python",
   "name": "python",
   "nbconvert_exporter": "python",
   "pygments_lexer": "ipython3",
   "version": "3.10.11"
  }
 },
 "nbformat": 4,
 "nbformat_minor": 5
}
